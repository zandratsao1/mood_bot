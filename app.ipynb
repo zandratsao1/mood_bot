{
 "cells": [
  {
   "cell_type": "code",
   "execution_count": 1,
   "id": "64c119a4",
   "metadata": {},
   "outputs": [
    {
     "ename": "ModuleNotFoundError",
     "evalue": "No module named 'streamlit'",
     "output_type": "error",
     "traceback": [
      "\u001b[31m---------------------------------------------------------------------------\u001b[39m",
      "\u001b[31mModuleNotFoundError\u001b[39m                       Traceback (most recent call last)",
      "\u001b[36mCell\u001b[39m\u001b[36m \u001b[39m\u001b[32mIn[1]\u001b[39m\u001b[32m, line 1\u001b[39m\n\u001b[32m----> \u001b[39m\u001b[32m1\u001b[39m \u001b[38;5;28;01mimport\u001b[39;00m\u001b[38;5;250m \u001b[39m\u001b[34;01mstreamlit\u001b[39;00m\u001b[38;5;250m \u001b[39m\u001b[38;5;28;01mas\u001b[39;00m\u001b[38;5;250m \u001b[39m\u001b[34;01mst\u001b[39;00m\n\u001b[32m      2\u001b[39m \u001b[38;5;28;01mimport\u001b[39;00m\u001b[38;5;250m \u001b[39m\u001b[34;01mpandas\u001b[39;00m\u001b[38;5;250m \u001b[39m\u001b[38;5;28;01mas\u001b[39;00m\u001b[38;5;250m \u001b[39m\u001b[34;01mpd\u001b[39;00m\n\u001b[32m      3\u001b[39m \u001b[38;5;28;01mimport\u001b[39;00m\u001b[38;5;250m \u001b[39m\u001b[34;01mplotly\u001b[39;00m\u001b[34;01m.\u001b[39;00m\u001b[34;01mexpress\u001b[39;00m\u001b[38;5;250m \u001b[39m\u001b[38;5;28;01mas\u001b[39;00m\u001b[38;5;250m \u001b[39m\u001b[34;01mpx\u001b[39;00m\n",
      "\u001b[31mModuleNotFoundError\u001b[39m: No module named 'streamlit'"
     ]
    }
   ],
   "source": [
    "import streamlit as st\n",
    "import pandas as pd\n",
    "import plotly.express as px\n",
    "import gspread\n",
    "from gspread_dataframe import get_as_dataframe\n",
    "from oauth2client.service_account import ServiceAccountCredentials\n",
    "from datetime import datetime\n",
    "import json\n",
    "\n",
    "# --- 连接 Google Sheets ---\n",
    "scope = [\"https://spreadsheets.google.com/feeds\", \"https://www.googleapis.com/auth/drive\"]\n",
    "\n",
    "# 从 Streamlit secrets 中读取 credentials.json\n",
    "creds_dict = json.loads(st.secrets[\"GOOGLE_CREDENTIALS\"])\n",
    "creds = ServiceAccountCredentials.from_json_keyfile_dict(creds_dict, scope)\n",
    "client = gspread.authorize(creds)\n",
    "\n",
    "# 打开你共享的 Google Sheet（修改成你自己的表名）\n",
    "sheet = client.open(\"Mood Log\").sheet1\n",
    "df = get_as_dataframe(sheet).dropna(how='all')\n",
    "\n",
    "# --- 数据预处理 ---\n",
    "df.columns = [\"timestamp\", \"mood\", \"note\"]\n",
    "df[\"timestamp\"] = pd.to_datetime(df[\"timestamp\"])\n",
    "\n",
    "# 只保留今天的数据\n",
    "today = pd.Timestamp.now().normalize()\n",
    "df_today = df[df[\"timestamp\"] >= today]\n",
    "\n",
    "# --- 页面内容 ---\n",
    "st.title(\"🧠 Mood of the Queue\")\n",
    "\n",
    "if not df_today.empty:\n",
    "    mood_counts = df_today[\"mood\"].value_counts().reset_index()\n",
    "    mood_counts.columns = [\"mood\", \"count\"]\n",
    "    fig = px.bar(mood_counts, x=\"mood\", y=\"count\", color=\"mood\", title=\"Today's Mood Breakdown\")\n",
    "    st.plotly_chart(fig)\n",
    "else:\n",
    "    st.info(\"No moods logged today yet.\")\n"
   ]
  }
 ],
 "metadata": {
  "kernelspec": {
   "display_name": "Python 3",
   "language": "python",
   "name": "python3"
  },
  "language_info": {
   "codemirror_mode": {
    "name": "ipython",
    "version": 3
   },
   "file_extension": ".py",
   "mimetype": "text/x-python",
   "name": "python",
   "nbconvert_exporter": "python",
   "pygments_lexer": "ipython3",
   "version": "3.12.1"
  }
 },
 "nbformat": 4,
 "nbformat_minor": 5
}
